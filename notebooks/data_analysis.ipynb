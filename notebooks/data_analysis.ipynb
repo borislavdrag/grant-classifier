{
 "cells": [
  {
   "cell_type": "code",
   "execution_count": 3,
   "id": "84c5b7e2",
   "metadata": {},
   "outputs": [],
   "source": [
    "%matplotlib inline"
   ]
  },
  {
   "cell_type": "code",
   "execution_count": 4,
   "id": "c1b2eb55",
   "metadata": {},
   "outputs": [],
   "source": [
    "import numpy as np\n",
    "import pandas as pd\n",
    "import matplotlib.pyplot as plt\n",
    "\n",
    "import spacy\n",
    "import nltk\n",
    "from nltk.corpus import stopwords\n",
    "\n",
    "from sklearn.preprocessing import LabelEncoder \n",
    "from sklearn.model_selection import train_test_split\n",
    "from sklearn.feature_extraction.text import TfidfVectorizer\n",
    "from sklearn import naive_bayes, svm, linear_model\n",
    "from sklearn.metrics import accuracy_score\n",
    "\n",
    "import xgboost\n",
    "# nltk.download('stopwords')\n",
    "\n",
    "from sklearn.pipeline import Pipeline\n",
    "\n",
    "from gensim.models import Word2Vec, KeyedVectors\n",
    "\n",
    "np.random.seed(359)"
   ]
  },
  {
   "cell_type": "markdown",
   "id": "194353f3",
   "metadata": {},
   "source": [
    "## Preprocessing the Text"
   ]
  },
  {
   "cell_type": "code",
   "execution_count": 5,
   "id": "42bb4fea",
   "metadata": {},
   "outputs": [],
   "source": [
    "# len(stopwords.words(\"german\"))\n",
    "\n",
    "de = spacy.load('de_core_news_sm')\n",
    "stopwords = de.Defaults.stop_words"
   ]
  },
  {
   "cell_type": "code",
   "execution_count": 6,
   "id": "ba5bd9f7",
   "metadata": {},
   "outputs": [],
   "source": [
    "data = pd.read_excel(io=\"../data/data2020.xlsx\",\n",
    "                     usecols=['Politikbereich', 'Zweck'])\n",
    "\n",
    "umlauts = {'ä': 'ae', 'ö': 'oe', 'ü': 'ue'}"
   ]
  },
  {
   "cell_type": "code",
   "execution_count": 7,
   "id": "22b0a18b",
   "metadata": {},
   "outputs": [],
   "source": [
    "data['Zweck_clean'] = data['Zweck'].str.replace('[^\\w\\s]+', ' ', regex=True) \\\n",
    "                             .str.replace('\\d+', ' ', regex=True) \\\n",
    "                             .str.replace(' +', ' ', regex=True) \\\n",
    "                             .replace(umlauts, regex=True) \\\n",
    "                             .str.lower() \\\n",
    "                             .apply(lambda x: [word.lemma_ for word in de(x)]) \\\n",
    "                             .apply(lambda x: [item for item in x if item not in stopwords]) \\\n",
    "                             .str.join(' ')\n",
    "                             "
   ]
  },
  {
   "cell_type": "code",
   "execution_count": 8,
   "id": "afa704b8",
   "metadata": {},
   "outputs": [
    {
     "data": {
      "text/plain": [
       "0                         nord sued tangente linie bpu\n",
       "1    fit fuer schule projekt foerderung sprachentwi...\n",
       "2                  kontakt beratungsstelle sleepin kub\n",
       "3    kita gesetz ausgestaltung paedagogischer raeum...\n",
       "4    ausstellungen schoener strom einzug elektrizit...\n",
       "5    personal sachkosten fuer öffentlichkeitsarbeit...\n",
       "6                                    ladeinfrastruktur\n",
       "7       apg projektnr apg mh projekt janz nah draussen\n",
       "8            radfahrtrainings fuer gefluechtete frauen\n",
       "9                           errichtung betriebsstaette\n",
       "Name: Zweck_clean, dtype: object"
      ]
     },
     "execution_count": 8,
     "metadata": {},
     "output_type": "execute_result"
    }
   ],
   "source": [
    "data['Zweck_clean'].head(10)"
   ]
  },
  {
   "cell_type": "code",
   "execution_count": 9,
   "id": "46bc25a2",
   "metadata": {},
   "outputs": [
    {
     "data": {
      "text/plain": [
       "40     687\n",
       "21     531\n",
       "15     463\n",
       "8      373\n",
       "55     350\n",
       "      ... \n",
       "237      1\n",
       "169      1\n",
       "204      1\n",
       "208      1\n",
       "148      1\n",
       "Name: Zweck_clean, Length: 213, dtype: int64"
      ]
     },
     "execution_count": 9,
     "metadata": {},
     "output_type": "execute_result"
    }
   ],
   "source": [
    "data['Zweck_clean'].str.len().value_counts()"
   ]
  },
  {
   "cell_type": "code",
   "execution_count": 10,
   "id": "6971a76d",
   "metadata": {},
   "outputs": [
    {
     "data": {
      "text/plain": [
       "0      Nord-Süd-Tangente; Linie 26/27, 2.2. Teil-BPU,A\n",
       "1    Zusammen Fit für die Schule – Projekt zur Förd...\n",
       "2           Kontakt- und Beratungsstelle/SleepIn (KuB)\n",
       "3    Gute-Kita-Gesetz- Ausgestaltung pädagogischer ...\n",
       "4    Ausstellungen Schöner Strom/Einzug der Elektri...\n",
       "5    Personal- und Sachkosten für Öffentlichkeitsar...\n",
       "6                                    Ladeinfrastruktur\n",
       "7    APG 0920-68406-353 / Projektnr.  APG-MH/1-2020...\n",
       "8              Radfahrtrainings für geflüchtete Frauen\n",
       "9                      Errichtung einer Betriebsstätte\n",
       "Name: Zweck, dtype: object"
      ]
     },
     "execution_count": 10,
     "metadata": {},
     "output_type": "execute_result"
    }
   ],
   "source": [
    "data['Zweck'].head(10)"
   ]
  },
  {
   "cell_type": "code",
   "execution_count": 11,
   "id": "2732aa8b",
   "metadata": {},
   "outputs": [],
   "source": [
    "train_X, test_X, train_y, test_y = train_test_split(data['Zweck_clean'], \n",
    "                                                    data['Politikbereich'], \n",
    "                                                    test_size=0.2)\n",
    "\n",
    "encoder = LabelEncoder()\n",
    "encoder = encoder.fit(data['Politikbereich'])\n",
    "train_y_enc = encoder.transform(train_y)\n",
    "test_y_enc = encoder.transform(test_y)"
   ]
  },
  {
   "cell_type": "code",
   "execution_count": 12,
   "id": "feab992f",
   "metadata": {},
   "outputs": [],
   "source": [
    "Tfidf_vect = TfidfVectorizer(max_features=2000)\n",
    "Tfidf_vect.fit(data['Zweck_clean'])\n",
    "Train_X_Tfidf = Tfidf_vect.transform(train_X)\n",
    "Test_X_Tfidf = Tfidf_vect.transform(test_X)"
   ]
  },
  {
   "cell_type": "code",
   "execution_count": 14,
   "id": "f648ad39",
   "metadata": {},
   "outputs": [
    {
     "data": {
      "text/plain": [
       "3765     unterstuetzung aufbauphase existenzgruendungen...\n",
       "7453     herstellungstechnologien replizierten stark ge...\n",
       "7439         lohnkostenzuschuss fuer blueprint berlin gmbh\n",
       "8466                        stadt kiez schule zeig zukunft\n",
       "5953     bezirkliche stadtteilkoordination sicherung st...\n",
       "                               ...                        \n",
       "7636       frei raeume fuer maedchen junge frauen weiß ...\n",
       "4359     ergaenzung streetwork aufsuchend jugendsoziala...\n",
       "10027                             arbeitsintegration aktiv\n",
       "7910                                           plug hybrid\n",
       "5092     ehap ii aha ehap beratung reinickendorf foerde...\n",
       "Name: Zweck_clean, Length: 9015, dtype: object"
      ]
     },
     "execution_count": 14,
     "metadata": {},
     "output_type": "execute_result"
    }
   ],
   "source": [
    "train_X"
   ]
  },
  {
   "cell_type": "code",
   "execution_count": 13,
   "id": "889c427d",
   "metadata": {},
   "outputs": [
    {
     "data": {
      "text/plain": [
       "3765     unterstuetzung aufbauphase existenzgruendungen...\n",
       "7453     herstellungstechnologien replizierten stark ge...\n",
       "7439         lohnkostenzuschuss fuer blueprint berlin gmbh\n",
       "8466                        stadt kiez schule zeig zukunft\n",
       "5953     bezirkliche stadtteilkoordination sicherung st...\n",
       "                               ...                        \n",
       "7636       frei raeume fuer maedchen junge frauen weiß ...\n",
       "4359     ergaenzung streetwork aufsuchend jugendsoziala...\n",
       "10027                             arbeitsintegration aktiv\n",
       "7910                                           plug hybrid\n",
       "5092     ehap ii aha ehap beratung reinickendorf foerde...\n",
       "Name: Zweck_clean, Length: 9015, dtype: object"
      ]
     },
     "execution_count": 13,
     "metadata": {},
     "output_type": "execute_result"
    }
   ],
   "source": [
    "train_X"
   ]
  },
  {
   "cell_type": "code",
   "execution_count": 11,
   "id": "422374f1",
   "metadata": {},
   "outputs": [
    {
     "data": {
      "text/plain": [
       "<9015x2000 sparse matrix of type '<class 'numpy.float64'>'\n",
       "\twith 27260 stored elements in Compressed Sparse Row format>"
      ]
     },
     "execution_count": 11,
     "metadata": {},
     "output_type": "execute_result"
    }
   ],
   "source": [
    "Train_X_Tfidf"
   ]
  },
  {
   "cell_type": "code",
   "execution_count": 12,
   "id": "bc9e28af",
   "metadata": {},
   "outputs": [],
   "source": [
    "model = KeyedVectors.load_word2vec_format('/Users/boris/Downloads/german.model', binary=True)"
   ]
  },
  {
   "cell_type": "code",
   "execution_count": 13,
   "id": "299e7ac8",
   "metadata": {},
   "outputs": [
    {
     "data": {
      "text/plain": [
       "3765     unterstuetzung aufbauphase existenzgruendungen...\n",
       "7453     herstellungstechnologien replizierten stark ge...\n",
       "7439         lohnkostenzuschuss fuer blueprint berlin gmbh\n",
       "8466                        stadt kiez schule zeig zukunft\n",
       "5953     bezirkliche stadtteilkoordination sicherung st...\n",
       "                               ...                        \n",
       "7636       frei raeume fuer maedchen junge frauen weiß ...\n",
       "4359     ergaenzung streetwork aufsuchend jugendsoziala...\n",
       "10027                             arbeitsintegration aktiv\n",
       "7910                                           plug hybrid\n",
       "5092     ehap ii aha ehap beratung reinickendorf foerde...\n",
       "Name: Zweck_clean, Length: 9015, dtype: object"
      ]
     },
     "execution_count": 13,
     "metadata": {},
     "output_type": "execute_result"
    }
   ],
   "source": [
    "train_X"
   ]
  },
  {
   "cell_type": "code",
   "execution_count": 14,
   "id": "9ca20581",
   "metadata": {},
   "outputs": [
    {
     "data": {
      "text/plain": [
       "[('Koenigin', 0.7524535655975342),\n",
       " ('Prinzessin', 0.7145279049873352),\n",
       " ('Prinz', 0.6881615519523621),\n",
       " ('Jungschuetzenkoenigin', 0.6740390658378601),\n",
       " ('Majestaet', 0.6590647101402283),\n",
       " ('Kronprinz_Philippe', 0.6576778292655945),\n",
       " ('Regentin', 0.6576672196388245),\n",
       " ('Prinzen', 0.6576202511787415),\n",
       " ('Carl_XVI', 0.6540848612785339),\n",
       " ('Prinzessin_Maxima', 0.6527888774871826)]"
      ]
     },
     "execution_count": 14,
     "metadata": {},
     "output_type": "execute_result"
    }
   ],
   "source": [
    "model.most_similar(positive=['Koenig', 'Frau'], negative=['Mann'])"
   ]
  },
  {
   "cell_type": "code",
   "execution_count": 15,
   "id": "b5ac5a19",
   "metadata": {},
   "outputs": [],
   "source": [
    "my_dict = dict({})\n",
    "for idx, key in enumerate(model.index_to_key):\n",
    "    my_dict[key] = model.get_vector(key)"
   ]
  },
  {
   "cell_type": "code",
   "execution_count": 31,
   "id": "96ec9aa6",
   "metadata": {},
   "outputs": [],
   "source": [
    "def vectorize(X):\n",
    "    vecs = np.array([])\n",
    "    for words in X:\n",
    "        mean_vec = np.array([])\n",
    "        for w in words:\n",
    "            if w in my_dict:\n",
    "                np.append(mean_vec, my_dict[w], axis = 0)\n",
    "            elif w.capitalize() in my_dict:\n",
    "                np.append(mean_vec, my_dict[w.capitalize()], axis = 0)\n",
    "            else:\n",
    "                np.append(mean_vec, np.zeros(300), axis = 0)       \n",
    "            \n",
    "        np.append(vecs, np.mean(mean_vec, axis=0), axis = 0)\n",
    "        \n",
    "        \n",
    "    return vecs"
   ]
  },
  {
   "cell_type": "code",
   "execution_count": 32,
   "id": "dc172653",
   "metadata": {},
   "outputs": [
    {
     "ename": "ValueError",
     "evalue": "all the input arrays must have same number of dimensions, but the array at index 0 has 1 dimension(s) and the array at index 1 has 0 dimension(s)",
     "output_type": "error",
     "traceback": [
      "\u001b[0;31m---------------------------------------------------------------------------\u001b[0m",
      "\u001b[0;31mValueError\u001b[0m                                Traceback (most recent call last)",
      "\u001b[0;32m/var/folders/pc/fxyyb4pj6s3d9pn548w91h400000gn/T/ipykernel_18492/2246973901.py\u001b[0m in \u001b[0;36m<module>\u001b[0;34m\u001b[0m\n\u001b[0;32m----> 1\u001b[0;31m \u001b[0mTrain_X_Word2Vec\u001b[0m \u001b[0;34m=\u001b[0m \u001b[0mvectorize\u001b[0m\u001b[0;34m(\u001b[0m\u001b[0mtrain_X\u001b[0m\u001b[0;34m)\u001b[0m\u001b[0;34m\u001b[0m\u001b[0;34m\u001b[0m\u001b[0m\n\u001b[0m\u001b[1;32m      2\u001b[0m \u001b[0mTest_X_Word2Vec\u001b[0m \u001b[0;34m=\u001b[0m \u001b[0mvectorize\u001b[0m\u001b[0;34m(\u001b[0m\u001b[0mtest_X\u001b[0m\u001b[0;34m)\u001b[0m\u001b[0;34m\u001b[0m\u001b[0;34m\u001b[0m\u001b[0m\n",
      "\u001b[0;32m/var/folders/pc/fxyyb4pj6s3d9pn548w91h400000gn/T/ipykernel_18492/2623929348.py\u001b[0m in \u001b[0;36mvectorize\u001b[0;34m(X)\u001b[0m\n\u001b[1;32m     11\u001b[0m                 \u001b[0mnp\u001b[0m\u001b[0;34m.\u001b[0m\u001b[0mappend\u001b[0m\u001b[0;34m(\u001b[0m\u001b[0mmean_vec\u001b[0m\u001b[0;34m,\u001b[0m \u001b[0mnp\u001b[0m\u001b[0;34m.\u001b[0m\u001b[0mzeros\u001b[0m\u001b[0;34m(\u001b[0m\u001b[0;36m300\u001b[0m\u001b[0;34m)\u001b[0m\u001b[0;34m,\u001b[0m \u001b[0maxis\u001b[0m \u001b[0;34m=\u001b[0m \u001b[0;36m0\u001b[0m\u001b[0;34m)\u001b[0m\u001b[0;34m\u001b[0m\u001b[0;34m\u001b[0m\u001b[0m\n\u001b[1;32m     12\u001b[0m \u001b[0;34m\u001b[0m\u001b[0m\n\u001b[0;32m---> 13\u001b[0;31m         \u001b[0mnp\u001b[0m\u001b[0;34m.\u001b[0m\u001b[0mappend\u001b[0m\u001b[0;34m(\u001b[0m\u001b[0mvecs\u001b[0m\u001b[0;34m,\u001b[0m \u001b[0mnp\u001b[0m\u001b[0;34m.\u001b[0m\u001b[0mmean\u001b[0m\u001b[0;34m(\u001b[0m\u001b[0mmean_vec\u001b[0m\u001b[0;34m,\u001b[0m \u001b[0maxis\u001b[0m\u001b[0;34m=\u001b[0m\u001b[0;36m0\u001b[0m\u001b[0;34m)\u001b[0m\u001b[0;34m,\u001b[0m \u001b[0maxis\u001b[0m \u001b[0;34m=\u001b[0m \u001b[0;36m0\u001b[0m\u001b[0;34m)\u001b[0m\u001b[0;34m\u001b[0m\u001b[0;34m\u001b[0m\u001b[0m\n\u001b[0m\u001b[1;32m     14\u001b[0m \u001b[0;34m\u001b[0m\u001b[0m\n\u001b[1;32m     15\u001b[0m \u001b[0;34m\u001b[0m\u001b[0m\n",
      "\u001b[0;32m<__array_function__ internals>\u001b[0m in \u001b[0;36mappend\u001b[0;34m(*args, **kwargs)\u001b[0m\n",
      "\u001b[0;32m~/code/anaconda3/envs/grant-clf/lib/python3.10/site-packages/numpy/lib/function_base.py\u001b[0m in \u001b[0;36mappend\u001b[0;34m(arr, values, axis)\u001b[0m\n\u001b[1;32m   4815\u001b[0m         \u001b[0mvalues\u001b[0m \u001b[0;34m=\u001b[0m \u001b[0mravel\u001b[0m\u001b[0;34m(\u001b[0m\u001b[0mvalues\u001b[0m\u001b[0;34m)\u001b[0m\u001b[0;34m\u001b[0m\u001b[0;34m\u001b[0m\u001b[0m\n\u001b[1;32m   4816\u001b[0m         \u001b[0maxis\u001b[0m \u001b[0;34m=\u001b[0m \u001b[0marr\u001b[0m\u001b[0;34m.\u001b[0m\u001b[0mndim\u001b[0m\u001b[0;34m-\u001b[0m\u001b[0;36m1\u001b[0m\u001b[0;34m\u001b[0m\u001b[0;34m\u001b[0m\u001b[0m\n\u001b[0;32m-> 4817\u001b[0;31m     \u001b[0;32mreturn\u001b[0m \u001b[0mconcatenate\u001b[0m\u001b[0;34m(\u001b[0m\u001b[0;34m(\u001b[0m\u001b[0marr\u001b[0m\u001b[0;34m,\u001b[0m \u001b[0mvalues\u001b[0m\u001b[0;34m)\u001b[0m\u001b[0;34m,\u001b[0m \u001b[0maxis\u001b[0m\u001b[0;34m=\u001b[0m\u001b[0maxis\u001b[0m\u001b[0;34m)\u001b[0m\u001b[0;34m\u001b[0m\u001b[0;34m\u001b[0m\u001b[0m\n\u001b[0m\u001b[1;32m   4818\u001b[0m \u001b[0;34m\u001b[0m\u001b[0m\n\u001b[1;32m   4819\u001b[0m \u001b[0;34m\u001b[0m\u001b[0m\n",
      "\u001b[0;32m<__array_function__ internals>\u001b[0m in \u001b[0;36mconcatenate\u001b[0;34m(*args, **kwargs)\u001b[0m\n",
      "\u001b[0;31mValueError\u001b[0m: all the input arrays must have same number of dimensions, but the array at index 0 has 1 dimension(s) and the array at index 1 has 0 dimension(s)"
     ]
    }
   ],
   "source": [
    "Train_X_Word2Vec = vectorize(train_X)\n",
    "Test_X_Word2Vec = vectorize(test_X)"
   ]
  },
  {
   "cell_type": "code",
   "execution_count": 30,
   "id": "8603e435",
   "metadata": {},
   "outputs": [
    {
     "data": {
      "text/plain": [
       "array([], dtype=float64)"
      ]
     },
     "execution_count": 30,
     "metadata": {},
     "output_type": "execute_result"
    }
   ],
   "source": [
    "Train_X_Word2Vec"
   ]
  },
  {
   "cell_type": "markdown",
   "id": "e8b828d9",
   "metadata": {},
   "source": [
    "## Modelling"
   ]
  },
  {
   "cell_type": "code",
   "execution_count": 18,
   "id": "c82dfcc5",
   "metadata": {},
   "outputs": [
    {
     "name": "stdout",
     "output_type": "stream",
     "text": [
      "0.6663708961845608\n"
     ]
    }
   ],
   "source": [
    "xg = xgboost.XGBClassifier(use_label_encoder=False, eval_metric=\"merror\")\n",
    "xg.fit(Train_X_Tfidf, train_y_enc)\n",
    "\n",
    "predictions_xg = xg.predict(Test_X_Tfidf)\n",
    "\n",
    "print(accuracy_score(predictions_xg, test_y_enc))"
   ]
  },
  {
   "cell_type": "code",
   "execution_count": 19,
   "id": "15716e0d",
   "metadata": {},
   "outputs": [
    {
     "name": "stdout",
     "output_type": "stream",
     "text": [
      "0.6592724046140195\n"
     ]
    }
   ],
   "source": [
    "Naive = naive_bayes.MultinomialNB()\n",
    "Naive.fit(Train_X_Tfidf, train_y_enc)\n",
    "\n",
    "predictions_NB = Naive.predict(Test_X_Tfidf)\n",
    "\n",
    "print(accuracy_score(predictions_NB, test_y_enc))"
   ]
  },
  {
   "cell_type": "code",
   "execution_count": 20,
   "id": "fb92bbd3",
   "metadata": {},
   "outputs": [
    {
     "name": "stdout",
     "output_type": "stream",
     "text": [
      "0.7191659272404614\n"
     ]
    }
   ],
   "source": [
    "SVM = svm.SVC(C=1, kernel='linear', degree=3, gamma='auto')\n",
    "SVM.fit(Train_X_Tfidf, train_y_enc)\n",
    "\n",
    "predictions_SVM = SVM.predict(Test_X_Tfidf)\n",
    "\n",
    "print(accuracy_score(predictions_SVM, test_y_enc))"
   ]
  },
  {
   "cell_type": "code",
   "execution_count": 21,
   "id": "a3f70314",
   "metadata": {},
   "outputs": [
    {
     "name": "stdout",
     "output_type": "stream",
     "text": [
      "0.707187222715173\n"
     ]
    }
   ],
   "source": [
    "LG = linear_model.LogisticRegression(max_iter=200)\n",
    "LG.fit(Train_X_Tfidf, train_y_enc)\n",
    "\n",
    "predictions_LG = LG.predict(Test_X_Tfidf)\n",
    "\n",
    "print(accuracy_score(predictions_LG, test_y_enc))"
   ]
  },
  {
   "cell_type": "code",
   "execution_count": 22,
   "id": "f582e9b8",
   "metadata": {},
   "outputs": [
    {
     "name": "stdout",
     "output_type": "stream",
     "text": [
      "0.37222715173025733\n"
     ]
    }
   ],
   "source": [
    "SVM = svm.SVC(C=1, kernel='linear', degree=3, gamma='auto')\n",
    "SVM.fit(Train_X_Word2Vec, train_y_enc)\n",
    "\n",
    "predictions_SVM = SVM.predict(Test_X_Word2Vec)\n",
    "\n",
    "print(accuracy_score(predictions_SVM, test_y_enc))"
   ]
  },
  {
   "cell_type": "code",
   "execution_count": 23,
   "id": "3cae06b9",
   "metadata": {},
   "outputs": [
    {
     "data": {
      "text/plain": [
       "Wirtschaft                                            2536\n",
       "Arbeit                                                1889\n",
       "Sport                                                 1121\n",
       "Jugend                                                 874\n",
       "Kultur                                                 829\n",
       "Soziales                                               557\n",
       "Bildung                                                520\n",
       "Gesundheit                                             442\n",
       "Bürgerschaftliches Engagement, Bürgerbeteiligung       404\n",
       "Stadtentwicklung                                       303\n",
       "Integration                                            301\n",
       "Familie                                                224\n",
       "Umwelt                                                 216\n",
       "Gleichstellung                                         210\n",
       "Verkehr                                                205\n",
       "Antidiskriminierung                                    140\n",
       "Pflege                                                  90\n",
       "Wissenschaft                                            71\n",
       "Kirchen, Religions-, Weltanschauungsgemeinschaften      64\n",
       "Denkmalschutz                                           58\n",
       "Forschung                                               49\n",
       "Justiz                                                  42\n",
       "Verbraucherschutz                                       35\n",
       "Sicherheit, Ordnung                                     30\n",
       "Frauen                                                  28\n",
       "Europa                                                  17\n",
       "Finanzen                                                 6\n",
       "Bauen, Wohnen                                            5\n",
       "Berlin-Image                                             2\n",
       "Medien                                                   1\n",
       "Name: Politikbereich, dtype: int64"
      ]
     },
     "execution_count": 23,
     "metadata": {},
     "output_type": "execute_result"
    }
   ],
   "source": [
    "data.Politikbereich.value_counts()"
   ]
  },
  {
   "cell_type": "code",
   "execution_count": 24,
   "id": "02b0a445",
   "metadata": {},
   "outputs": [
    {
     "name": "stdout",
     "output_type": "stream",
     "text": [
      "0.22504215103380956\n"
     ]
    }
   ],
   "source": [
    "print(2536/len(data))"
   ]
  },
  {
   "cell_type": "code",
   "execution_count": 25,
   "id": "1200a615",
   "metadata": {},
   "outputs": [],
   "source": [
    "keys = data.Politikbereich.unique()"
   ]
  },
  {
   "cell_type": "code",
   "execution_count": null,
   "id": "a2c43e30",
   "metadata": {},
   "outputs": [],
   "source": []
  }
 ],
 "metadata": {
  "kernelspec": {
   "display_name": "grant-clf",
   "language": "python",
   "name": "grant-clf"
  },
  "language_info": {
   "codemirror_mode": {
    "name": "ipython",
    "version": 3
   },
   "file_extension": ".py",
   "mimetype": "text/x-python",
   "name": "python",
   "nbconvert_exporter": "python",
   "pygments_lexer": "ipython3",
   "version": "3.10.0"
  }
 },
 "nbformat": 4,
 "nbformat_minor": 5
}
