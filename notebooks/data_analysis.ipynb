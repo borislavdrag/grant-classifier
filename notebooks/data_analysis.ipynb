{
 "cells": [
  {
   "cell_type": "markdown",
   "id": "78c3b3b5",
   "metadata": {},
   "source": [
    "# Grant Classification\n",
    "## Data Analysis and Preprocessing"
   ]
  },
  {
   "cell_type": "code",
   "execution_count": 1,
   "id": "84c5b7e2",
   "metadata": {},
   "outputs": [],
   "source": [
    "%matplotlib inline"
   ]
  },
  {
   "cell_type": "code",
   "execution_count": 40,
   "id": "c1b2eb55",
   "metadata": {},
   "outputs": [],
   "source": [
    "import numpy as np\n",
    "import pandas as pd\n",
    "import matplotlib.pyplot as plt\n",
    "\n",
    "import spacy\n",
    "import nltk\n",
    "from nltk.corpus import stopwords\n",
    "\n",
    "from sklearn.preprocessing import LabelEncoder \n",
    "from sklearn.model_selection import train_test_split, GridSearchCV, StratifiedKFold\n",
    "from sklearn.feature_extraction.text import TfidfVectorizer\n",
    "from sklearn import naive_bayes, svm, linear_model\n",
    "from sklearn.metrics import accuracy_score\n",
    "\n",
    "import xgboost\n",
    "from gensim.models import Word2Vec, KeyedVectors\n",
    "plt.style.use('ggplot')\n",
    "\n",
    "np.random.seed(359)  # reproducibility"
   ]
  },
  {
   "cell_type": "markdown",
   "id": "f657fcda",
   "metadata": {},
   "source": [
    "## Examining the data"
   ]
  },
  {
   "cell_type": "code",
   "execution_count": 4,
   "id": "ba5bd9f7",
   "metadata": {},
   "outputs": [],
   "source": [
    "data = pd.read_excel(io=\"../data/data2020.xlsx\",\n",
    "                     usecols=['Politikbereich', 'Zweck'])"
   ]
  },
  {
   "cell_type": "code",
   "execution_count": 72,
   "id": "bb63b0a3",
   "metadata": {},
   "outputs": [
    {
     "name": "stdout",
     "output_type": "stream",
     "text": [
      "Missing predictors: 0\n",
      "Missing targets: 0\n"
     ]
    }
   ],
   "source": [
    "print(\"Missing predictors:\", len(data[data[\"Zweck\"].isna()]))\n",
    "print(\"Missing targets:\", len(data[data[\"Politikbereich\"].isna()]))"
   ]
  },
  {
   "cell_type": "code",
   "execution_count": 74,
   "id": "f015b904",
   "metadata": {},
   "outputs": [
    {
     "data": {
      "text/html": [
       "<div>\n",
       "<style scoped>\n",
       "    .dataframe tbody tr th:only-of-type {\n",
       "        vertical-align: middle;\n",
       "    }\n",
       "\n",
       "    .dataframe tbody tr th {\n",
       "        vertical-align: top;\n",
       "    }\n",
       "\n",
       "    .dataframe thead th {\n",
       "        text-align: right;\n",
       "    }\n",
       "</style>\n",
       "<table border=\"1\" class=\"dataframe\">\n",
       "  <thead>\n",
       "    <tr style=\"text-align: right;\">\n",
       "      <th></th>\n",
       "      <th>Zweck</th>\n",
       "      <th>Politikbereich</th>\n",
       "    </tr>\n",
       "  </thead>\n",
       "  <tbody>\n",
       "    <tr>\n",
       "      <th>0</th>\n",
       "      <td>Nord-Süd-Tangente; Linie 26/27, 2.2. Teil-BPU,A</td>\n",
       "      <td>Verkehr</td>\n",
       "    </tr>\n",
       "    <tr>\n",
       "      <th>1</th>\n",
       "      <td>Zusammen Fit für die Schule – Projekt zur Förd...</td>\n",
       "      <td>Integration</td>\n",
       "    </tr>\n",
       "    <tr>\n",
       "      <th>2</th>\n",
       "      <td>Kontakt- und Beratungsstelle/SleepIn (KuB)</td>\n",
       "      <td>Jugend</td>\n",
       "    </tr>\n",
       "    <tr>\n",
       "      <th>3</th>\n",
       "      <td>Gute-Kita-Gesetz- Ausgestaltung pädagogischer ...</td>\n",
       "      <td>Jugend</td>\n",
       "    </tr>\n",
       "    <tr>\n",
       "      <th>4</th>\n",
       "      <td>Ausstellungen Schöner Strom/Einzug der Elektri...</td>\n",
       "      <td>Kultur</td>\n",
       "    </tr>\n",
       "    <tr>\n",
       "      <th>5</th>\n",
       "      <td>Personal- und Sachkosten für Öffentlichkeitsar...</td>\n",
       "      <td>Wirtschaft</td>\n",
       "    </tr>\n",
       "    <tr>\n",
       "      <th>6</th>\n",
       "      <td>Ladeinfrastruktur</td>\n",
       "      <td>Wirtschaft</td>\n",
       "    </tr>\n",
       "    <tr>\n",
       "      <th>7</th>\n",
       "      <td>APG 0920-68406-353 / Projektnr.  APG-MH/1-2020...</td>\n",
       "      <td>Gesundheit</td>\n",
       "    </tr>\n",
       "    <tr>\n",
       "      <th>8</th>\n",
       "      <td>Radfahrtrainings für geflüchtete Frauen</td>\n",
       "      <td>Verkehr</td>\n",
       "    </tr>\n",
       "    <tr>\n",
       "      <th>9</th>\n",
       "      <td>Errichtung einer Betriebsstätte</td>\n",
       "      <td>Wirtschaft</td>\n",
       "    </tr>\n",
       "  </tbody>\n",
       "</table>\n",
       "</div>"
      ],
      "text/plain": [
       "                                               Zweck Politikbereich\n",
       "0    Nord-Süd-Tangente; Linie 26/27, 2.2. Teil-BPU,A        Verkehr\n",
       "1  Zusammen Fit für die Schule – Projekt zur Förd...    Integration\n",
       "2         Kontakt- und Beratungsstelle/SleepIn (KuB)         Jugend\n",
       "3  Gute-Kita-Gesetz- Ausgestaltung pädagogischer ...         Jugend\n",
       "4  Ausstellungen Schöner Strom/Einzug der Elektri...         Kultur\n",
       "5  Personal- und Sachkosten für Öffentlichkeitsar...     Wirtschaft\n",
       "6                                  Ladeinfrastruktur     Wirtschaft\n",
       "7  APG 0920-68406-353 / Projektnr.  APG-MH/1-2020...     Gesundheit\n",
       "8            Radfahrtrainings für geflüchtete Frauen        Verkehr\n",
       "9                    Errichtung einer Betriebsstätte     Wirtschaft"
      ]
     },
     "execution_count": 74,
     "metadata": {},
     "output_type": "execute_result"
    }
   ],
   "source": [
    "data[['Zweck', 'Politikbereich']].head(10)"
   ]
  },
  {
   "cell_type": "markdown",
   "id": "194353f3",
   "metadata": {},
   "source": [
    "## Preprocessing the Text\n",
    "\n",
    "The data lies in several .xlsx files divided by their year of issuing. We are going to examine data only from the past year, as to reduce loading and training times. At best all data should be examined (or a stratified sample of the years if there are deviations in the distribution)\n",
    "\n",
    "We are going to be using spacy for text preprocessing. The German module of spacy should be first downloaded on your machine (python -m spacy download de).\n",
    "\n",
    "We are using the stopwords from the space module and not from another one (like nltk). Because spacy offers a lot more (among them some that might be useful), but overall the expectation is for longer, more specific words in the purpose description to carry more meaning."
   ]
  },
  {
   "cell_type": "code",
   "execution_count": 3,
   "id": "42bb4fea",
   "metadata": {},
   "outputs": [],
   "source": [
    "de = spacy.load('de_core_news_sm')\n",
    "stopwords = de.Defaults.stop_words"
   ]
  },
  {
   "cell_type": "code",
   "execution_count": 69,
   "id": "d7b64297",
   "metadata": {},
   "outputs": [],
   "source": [
    "umlauts = {'ä': 'ae', 'ö': 'oe', 'ü': 'ue'}"
   ]
  },
  {
   "cell_type": "markdown",
   "id": "8f6a6fd0",
   "metadata": {},
   "source": [
    "Data preprocessing proceeds as follows:\n",
    "1. We remove punctuation\n",
    "2. We remove digits\n",
    "3. Extra spaces are trimmed\n",
    "4. Special characters in the German alphabet are replaced\n",
    "5. We lowercase all text\n",
    "6. We lemmatize all words using spacy\n",
    "7. Stop words are filtered\n",
    "8. Words are concatenated abck together into sentences (easier to work with)"
   ]
  },
  {
   "cell_type": "code",
   "execution_count": 5,
   "id": "22b0a18b",
   "metadata": {},
   "outputs": [],
   "source": [
    "data['Zweck_clean'] = data['Zweck'].str.replace('[^\\w\\s]+', ' ', regex=True) \\\n",
    "                             .str.replace('\\d+', ' ', regex=True) \\\n",
    "                             .str.replace(' +', ' ', regex=True) \\\n",
    "                             .replace(umlauts, regex=True) \\\n",
    "                             .str.lower() \\\n",
    "                             .apply(lambda x: [word.lemma_ for word in de(str(x))]) \\\n",
    "                             .apply(lambda x: [item for item in x if item not in stopwords]) \\\n",
    "                             .str.join(' ')"
   ]
  },
  {
   "cell_type": "code",
   "execution_count": 28,
   "id": "76007e82",
   "metadata": {},
   "outputs": [
    {
     "data": {
      "text/plain": [
       "0      Nord-Süd-Tangente; Linie 26/27, 2.2. Teil-BPU,A\n",
       "1    Zusammen Fit für die Schule – Projekt zur Förd...\n",
       "2           Kontakt- und Beratungsstelle/SleepIn (KuB)\n",
       "3    Gute-Kita-Gesetz- Ausgestaltung pädagogischer ...\n",
       "4    Ausstellungen Schöner Strom/Einzug der Elektri...\n",
       "5    Personal- und Sachkosten für Öffentlichkeitsar...\n",
       "6                                    Ladeinfrastruktur\n",
       "7    APG 0920-68406-353 / Projektnr.  APG-MH/1-2020...\n",
       "8              Radfahrtrainings für geflüchtete Frauen\n",
       "9                      Errichtung einer Betriebsstätte\n",
       "Name: Zweck, dtype: object"
      ]
     },
     "execution_count": 28,
     "metadata": {},
     "output_type": "execute_result"
    }
   ],
   "source": [
    "data['Zweck'].head(10)"
   ]
  },
  {
   "cell_type": "code",
   "execution_count": 6,
   "id": "afa704b8",
   "metadata": {},
   "outputs": [
    {
     "data": {
      "text/plain": [
       "0                         nord sued tangente linie bpu\n",
       "1    fit fuer schule projekt foerderung sprachentwi...\n",
       "2                  kontakt beratungsstelle sleepin kub\n",
       "3    kita gesetz ausgestaltung paedagogischer raeum...\n",
       "4    ausstellungen schoener strom einzug elektrizit...\n",
       "5    personal sachkosten fuer öffentlichkeitsarbeit...\n",
       "6                                    ladeinfrastruktur\n",
       "7       apg projektnr apg mh projekt janz nah draussen\n",
       "8            radfahrtrainings fuer gefluechtete frauen\n",
       "9                           errichtung betriebsstaette\n",
       "Name: Zweck_clean, dtype: object"
      ]
     },
     "execution_count": 6,
     "metadata": {},
     "output_type": "execute_result"
    }
   ],
   "source": [
    "data['Zweck_clean'].head(10)"
   ]
  },
  {
   "cell_type": "markdown",
   "id": "f9f22ee2",
   "metadata": {},
   "source": [
    "We then remove categories with single data point representation (to make working with stratified sampes easier, but they also don't carry much meaning for the model)\n",
    "\n",
    "We create our train/test split and encode the outcome as numbers."
   ]
  },
  {
   "cell_type": "code",
   "execution_count": 8,
   "id": "2732aa8b",
   "metadata": {},
   "outputs": [],
   "source": [
    "data = data.groupby('Politikbereich').filter(lambda x: len(x) > 1)  # TODO: use in prod\n",
    "train_X, test_X, train_y, test_y = train_test_split(data['Zweck_clean'], \n",
    "                                                    data['Politikbereich'], \n",
    "                                                    test_size=0.2,\n",
    "                                                    stratify=data['Politikbereich'])\n",
    "\n",
    "encoder = LabelEncoder()\n",
    "encoder = encoder.fit(data['Politikbereich'])\n",
    "train_y_enc = encoder.transform(train_y)\n",
    "test_y_enc = encoder.transform(test_y)"
   ]
  },
  {
   "cell_type": "markdown",
   "id": "41fb27ac",
   "metadata": {},
   "source": [
    "There are several vectorisation techniques we could use. We are going to start off with tfidf.\n",
    "\n",
    "Word2Vec should be examined afterwards and as it preserves more meaning, the expectation would be for it to yield better results."
   ]
  },
  {
   "cell_type": "code",
   "execution_count": 9,
   "id": "feab992f",
   "metadata": {},
   "outputs": [],
   "source": [
    "Tfidf_vect = TfidfVectorizer(max_features=500)  # TOD: play with that\n",
    "Tfidf_vect.fit(data['Zweck_clean'])\n",
    "train_X_tfidf = Tfidf_vect.transform(train_X)\n",
    "test_X_tfidf = Tfidf_vect.transform(test_X)"
   ]
  },
  {
   "cell_type": "markdown",
   "id": "0ac62df3",
   "metadata": {},
   "source": [
    "## Analysing the data\n",
    "\n",
    "We have our data ready for the models to consume. We have to, however, first see what we are working with."
   ]
  },
  {
   "cell_type": "code",
   "execution_count": null,
   "id": "2eef0060",
   "metadata": {},
   "outputs": [],
   "source": [
    "print(\"Size of sample data:\", len(data))"
   ]
  },
  {
   "cell_type": "code",
   "execution_count": 68,
   "id": "ed5f1e60",
   "metadata": {},
   "outputs": [
    {
     "data": {
      "image/png": "[encoded data removed]",
      "text/plain": [
       "<Figure size 432x288 with 1 Axes>"
      ]
     },
     "metadata": {},
     "output_type": "display_data"
    },
    {
     "name": "stdout",
     "output_type": "stream",
     "text": [
      "Most prevalent class %: 22.5\n",
      "10 least prevalent classes %: 2.4\n"
     ]
    }
   ],
   "source": [
    "cat_distr = data.Politikbereich.value_counts()\n",
    "plt.pie(cat_distr, labels=(list(cat_distr.index[:5]) + ['']*(len(cat_distr)-5)))\n",
    "plt.show()\n",
    "\n",
    "print(\"Most prevalent class %:\", round(cat_distr[0]/len(data), 3)*100)\n",
    "print(\"10 least prevalent classes %:\", round(sum(cat_distr[-10:])/len(data), 3)*100)"
   ]
  },
  {
   "cell_type": "markdown",
   "id": "f1568932",
   "metadata": {},
   "source": [
    "We see that our data is heavily imbalanced, which we have to have in mind when going to the modelling step.\n",
    "\n",
    "Upon further inspection we also see a useful pattern in one of the classes:"
   ]
  },
  {
   "cell_type": "code",
   "execution_count": 58,
   "id": "e48107e9",
   "metadata": {},
   "outputs": [
    {
     "data": {
      "text/plain": [
       "11       Kosten für die Beschäftigung von Übungsleitern\n",
       "12    Schaffung besserer Trainingsbedingungen für di...\n",
       "15       Kosten für die Beschäftigung von Übungsleitern\n",
       "16       Kosten für die Beschäftigung von Übungsleitern\n",
       "17    Kosten für die Beschäftigung von hauptberuflic...\n",
       "18    Kosten für die Beschäftigung von hauptberuflic...\n",
       "19       Kosten für die Beschäftigung von Übungsleitern\n",
       "20       Kosten für die Beschäftigung von Übungsleitern\n",
       "21       Kosten für die Beschäftigung von Übungsleitern\n",
       "22                         Sondermittelantrag Nummer  2\n",
       "Name: Zweck, dtype: object"
      ]
     },
     "execution_count": 58,
     "metadata": {},
     "output_type": "execute_result"
    }
   ],
   "source": [
    "data[data['Politikbereich'] == 'Sport']['Zweck'].head(10)"
   ]
  },
  {
   "cell_type": "code",
   "execution_count": 60,
   "id": "6719ba11",
   "metadata": {},
   "outputs": [
    {
     "name": "stdout",
     "output_type": "stream",
     "text": [
      "Categories in pattern: ['Sport']\n",
      "Size of pattern: 692\n"
     ]
    }
   ],
   "source": [
    "sport_pattern = data[data['Zweck'].str.contains(\"Kosten für die Beschäftigung\")]['Politikbereich']\n",
    "print(\"Categories in pattern:\", sport_pattern.unique())\n",
    "print(\"Size of pattern:\", sport_pattern.shape[0])"
   ]
  },
  {
   "cell_type": "markdown",
   "id": "e75236e1",
   "metadata": {},
   "source": [
    "By analyzing the data, we could implement manual rules in order to help out our models as more than 5% of our sample matches with it."
   ]
  },
  {
   "cell_type": "markdown",
   "id": "97b58903",
   "metadata": {},
   "source": [
    "## Unfinished:"
   ]
  },
  {
   "cell_type": "markdown",
   "id": "fed506bc",
   "metadata": {},
   "source": [
    "#### Testing a Word2Vec Version\n",
    "\n",
    "Using word2vec and computing the mean of the participating vectors.\n",
    "Doc2Vec implementations should be considered."
   ]
  },
  {
   "cell_type": "code",
   "execution_count": 12,
   "id": "bc9e28af",
   "metadata": {},
   "outputs": [],
   "source": [
    "model = KeyedVectors.load_word2vec_format('/Users/boris/Downloads/german.model', binary=True)"
   ]
  },
  {
   "cell_type": "code",
   "execution_count": 13,
   "id": "299e7ac8",
   "metadata": {},
   "outputs": [
    {
     "data": {
      "text/plain": [
       "3765     unterstuetzung aufbauphase existenzgruendungen...\n",
       "7453     herstellungstechnologien replizierten stark ge...\n",
       "7439         lohnkostenzuschuss fuer blueprint berlin gmbh\n",
       "8466                        stadt kiez schule zeig zukunft\n",
       "5953     bezirkliche stadtteilkoordination sicherung st...\n",
       "                               ...                        \n",
       "7636       frei raeume fuer maedchen junge frauen weiß ...\n",
       "4359     ergaenzung streetwork aufsuchend jugendsoziala...\n",
       "10027                             arbeitsintegration aktiv\n",
       "7910                                           plug hybrid\n",
       "5092     ehap ii aha ehap beratung reinickendorf foerde...\n",
       "Name: Zweck_clean, Length: 9015, dtype: object"
      ]
     },
     "execution_count": 13,
     "metadata": {},
     "output_type": "execute_result"
    }
   ],
   "source": [
    "train_X"
   ]
  },
  {
   "cell_type": "code",
   "execution_count": 14,
   "id": "9ca20581",
   "metadata": {},
   "outputs": [
    {
     "data": {
      "text/plain": [
       "[('Koenigin', 0.7524535655975342),\n",
       " ('Prinzessin', 0.7145279049873352),\n",
       " ('Prinz', 0.6881615519523621),\n",
       " ('Jungschuetzenkoenigin', 0.6740390658378601),\n",
       " ('Majestaet', 0.6590647101402283),\n",
       " ('Kronprinz_Philippe', 0.6576778292655945),\n",
       " ('Regentin', 0.6576672196388245),\n",
       " ('Prinzen', 0.6576202511787415),\n",
       " ('Carl_XVI', 0.6540848612785339),\n",
       " ('Prinzessin_Maxima', 0.6527888774871826)]"
      ]
     },
     "execution_count": 14,
     "metadata": {},
     "output_type": "execute_result"
    }
   ],
   "source": [
    "model.most_similar(positive=['Koenig', 'Frau'], negative=['Mann'])"
   ]
  },
  {
   "cell_type": "code",
   "execution_count": 15,
   "id": "b5ac5a19",
   "metadata": {},
   "outputs": [],
   "source": [
    "my_dict = dict({})\n",
    "for idx, key in enumerate(model.index_to_key):\n",
    "    my_dict[key] = model.get_vector(key)"
   ]
  },
  {
   "cell_type": "code",
   "execution_count": 31,
   "id": "96ec9aa6",
   "metadata": {},
   "outputs": [],
   "source": [
    "def vectorize(X):\n",
    "    vecs = np.array([])\n",
    "    for words in X:\n",
    "        mean_vec = np.array([])\n",
    "        for w in words:\n",
    "            if w in my_dict:\n",
    "                np.append(mean_vec, my_dict[w], axis = 0)\n",
    "            elif w.capitalize() in my_dict:\n",
    "                np.append(mean_vec, my_dict[w.capitalize()], axis = 0)\n",
    "            else:\n",
    "                np.append(mean_vec, np.zeros(300), axis = 0)       \n",
    "            \n",
    "        np.append(vecs, np.mean(mean_vec, axis=0), axis = 0)\n",
    "        \n",
    "        \n",
    "    return vecs"
   ]
  },
  {
   "cell_type": "code",
   "execution_count": 32,
   "id": "dc172653",
   "metadata": {},
   "outputs": [
    {
     "ename": "ValueError",
     "evalue": "all the input arrays must have same number of dimensions, but the array at index 0 has 1 dimension(s) and the array at index 1 has 0 dimension(s)",
     "output_type": "error",
     "traceback": [
      "\u001b[0;31m---------------------------------------------------------------------------\u001b[0m",
      "\u001b[0;31mValueError\u001b[0m                                Traceback (most recent call last)",
      "\u001b[0;32m/var/folders/pc/fxyyb4pj6s3d9pn548w91h400000gn/T/ipykernel_18492/2246973901.py\u001b[0m in \u001b[0;36m<module>\u001b[0;34m\u001b[0m\n\u001b[0;32m----> 1\u001b[0;31m \u001b[0mTrain_X_Word2Vec\u001b[0m \u001b[0;34m=\u001b[0m \u001b[0mvectorize\u001b[0m\u001b[0;34m(\u001b[0m\u001b[0mtrain_X\u001b[0m\u001b[0;34m)\u001b[0m\u001b[0;34m\u001b[0m\u001b[0;34m\u001b[0m\u001b[0m\n\u001b[0m\u001b[1;32m      2\u001b[0m \u001b[0mTest_X_Word2Vec\u001b[0m \u001b[0;34m=\u001b[0m \u001b[0mvectorize\u001b[0m\u001b[0;34m(\u001b[0m\u001b[0mtest_X\u001b[0m\u001b[0;34m)\u001b[0m\u001b[0;34m\u001b[0m\u001b[0;34m\u001b[0m\u001b[0m\n",
      "\u001b[0;32m/var/folders/pc/fxyyb4pj6s3d9pn548w91h400000gn/T/ipykernel_18492/2623929348.py\u001b[0m in \u001b[0;36mvectorize\u001b[0;34m(X)\u001b[0m\n\u001b[1;32m     11\u001b[0m                 \u001b[0mnp\u001b[0m\u001b[0;34m.\u001b[0m\u001b[0mappend\u001b[0m\u001b[0;34m(\u001b[0m\u001b[0mmean_vec\u001b[0m\u001b[0;34m,\u001b[0m \u001b[0mnp\u001b[0m\u001b[0;34m.\u001b[0m\u001b[0mzeros\u001b[0m\u001b[0;34m(\u001b[0m\u001b[0;36m300\u001b[0m\u001b[0;34m)\u001b[0m\u001b[0;34m,\u001b[0m \u001b[0maxis\u001b[0m \u001b[0;34m=\u001b[0m \u001b[0;36m0\u001b[0m\u001b[0;34m)\u001b[0m\u001b[0;34m\u001b[0m\u001b[0;34m\u001b[0m\u001b[0m\n\u001b[1;32m     12\u001b[0m \u001b[0;34m\u001b[0m\u001b[0m\n\u001b[0;32m---> 13\u001b[0;31m         \u001b[0mnp\u001b[0m\u001b[0;34m.\u001b[0m\u001b[0mappend\u001b[0m\u001b[0;34m(\u001b[0m\u001b[0mvecs\u001b[0m\u001b[0;34m,\u001b[0m \u001b[0mnp\u001b[0m\u001b[0;34m.\u001b[0m\u001b[0mmean\u001b[0m\u001b[0;34m(\u001b[0m\u001b[0mmean_vec\u001b[0m\u001b[0;34m,\u001b[0m \u001b[0maxis\u001b[0m\u001b[0;34m=\u001b[0m\u001b[0;36m0\u001b[0m\u001b[0;34m)\u001b[0m\u001b[0;34m,\u001b[0m \u001b[0maxis\u001b[0m \u001b[0;34m=\u001b[0m \u001b[0;36m0\u001b[0m\u001b[0;34m)\u001b[0m\u001b[0;34m\u001b[0m\u001b[0;34m\u001b[0m\u001b[0m\n\u001b[0m\u001b[1;32m     14\u001b[0m \u001b[0;34m\u001b[0m\u001b[0m\n\u001b[1;32m     15\u001b[0m \u001b[0;34m\u001b[0m\u001b[0m\n",
      "\u001b[0;32m<__array_function__ internals>\u001b[0m in \u001b[0;36mappend\u001b[0;34m(*args, **kwargs)\u001b[0m\n",
      "\u001b[0;32m~/code/anaconda3/envs/grant-clf/lib/python3.10/site-packages/numpy/lib/function_base.py\u001b[0m in \u001b[0;36mappend\u001b[0;34m(arr, values, axis)\u001b[0m\n\u001b[1;32m   4815\u001b[0m         \u001b[0mvalues\u001b[0m \u001b[0;34m=\u001b[0m \u001b[0mravel\u001b[0m\u001b[0;34m(\u001b[0m\u001b[0mvalues\u001b[0m\u001b[0;34m)\u001b[0m\u001b[0;34m\u001b[0m\u001b[0;34m\u001b[0m\u001b[0m\n\u001b[1;32m   4816\u001b[0m         \u001b[0maxis\u001b[0m \u001b[0;34m=\u001b[0m \u001b[0marr\u001b[0m\u001b[0;34m.\u001b[0m\u001b[0mndim\u001b[0m\u001b[0;34m-\u001b[0m\u001b[0;36m1\u001b[0m\u001b[0;34m\u001b[0m\u001b[0;34m\u001b[0m\u001b[0m\n\u001b[0;32m-> 4817\u001b[0;31m     \u001b[0;32mreturn\u001b[0m \u001b[0mconcatenate\u001b[0m\u001b[0;34m(\u001b[0m\u001b[0;34m(\u001b[0m\u001b[0marr\u001b[0m\u001b[0;34m,\u001b[0m \u001b[0mvalues\u001b[0m\u001b[0;34m)\u001b[0m\u001b[0;34m,\u001b[0m \u001b[0maxis\u001b[0m\u001b[0;34m=\u001b[0m\u001b[0maxis\u001b[0m\u001b[0;34m)\u001b[0m\u001b[0;34m\u001b[0m\u001b[0;34m\u001b[0m\u001b[0m\n\u001b[0m\u001b[1;32m   4818\u001b[0m \u001b[0;34m\u001b[0m\u001b[0m\n\u001b[1;32m   4819\u001b[0m \u001b[0;34m\u001b[0m\u001b[0m\n",
      "\u001b[0;32m<__array_function__ internals>\u001b[0m in \u001b[0;36mconcatenate\u001b[0;34m(*args, **kwargs)\u001b[0m\n",
      "\u001b[0;31mValueError\u001b[0m: all the input arrays must have same number of dimensions, but the array at index 0 has 1 dimension(s) and the array at index 1 has 0 dimension(s)"
     ]
    }
   ],
   "source": [
    "Train_X_Word2Vec = vectorize(train_X)\n",
    "Test_X_Word2Vec = vectorize(test_X)"
   ]
  },
  {
   "cell_type": "code",
   "execution_count": 30,
   "id": "8603e435",
   "metadata": {},
   "outputs": [
    {
     "data": {
      "text/plain": [
       "array([], dtype=float64)"
      ]
     },
     "execution_count": 30,
     "metadata": {},
     "output_type": "execute_result"
    }
   ],
   "source": [
    "Train_X_Word2Vec"
   ]
  },
  {
   "cell_type": "code",
   "execution_count": null,
   "id": "f45179a0",
   "metadata": {},
   "outputs": [],
   "source": []
  }
 ],
 "metadata": {
  "kernelspec": {
   "display_name": "grant-clf",
   "language": "python",
   "name": "grant-clf"
  },
  "language_info": {
   "codemirror_mode": {
    "name": "ipython",
    "version": 3
   },
   "file_extension": ".py",
   "mimetype": "text/x-python",
   "name": "python",
   "nbconvert_exporter": "python",
   "pygments_lexer": "ipython3",
   "version": "3.10.0"
  }
 },
 "nbformat": 4,
 "nbformat_minor": 5
}
